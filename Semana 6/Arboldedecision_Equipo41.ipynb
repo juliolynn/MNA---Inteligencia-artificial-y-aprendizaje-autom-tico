{
  "cells": [
    {
      "cell_type": "markdown",
      "metadata": {
        "id": "VFj0sSM06dYa"
      },
      "source": [
        "#**Maestría en Inteligencia Artificial Aplicada**\n",
        "##**Curso: Inteligencia Artificial y Aprendizaje Automático**\n",
        "###Tecnológico de Monterrey\n",
        "###Prof Luis Eduardo Falcón Morales\n",
        "\n",
        "## **Adtividad de la Semana 6**\n",
        "###**Árboles de decisión y bosque aleatorio.**\n"
      ]
    },
    {
      "cell_type": "markdown",
      "metadata": {
        "id": "Qgrvy0RGB9XI"
      },
      "source": [
        "**EQUIPO 41**\n",
        "\n",
        "**Nombres y matrículas de los integrantes del equipo:**\n",
        "\n",
        "*   Miguel Guillermo Galindo Orozco (A01793695)\n",
        "*   Jorge Iván Hidalgo Reyes (A01794221)\n",
        "*   Julio Cesar Lynn Jimenez (A01793660)\n",
        "*   Nicolás Mojica Gómez (A01794354)\n",
        "*   Marco Antonio Pérez Castellanos (A01793473)\n"
      ]
    },
    {
      "cell_type": "markdown",
      "metadata": {
        "id": "FrJ2ahMODVj1"
      },
      "source": [
        "En cada sección deberás incluir todas las líneas de código necesarias para responder a cada uno de los ejercicios."
      ]
    },
    {
      "cell_type": "code",
      "execution_count": null,
      "metadata": {
        "id": "exXsscs-Dh-2"
      },
      "outputs": [],
      "source": [
        "# Incluye aquí todos módulos, librerías y paquetes que requieras.\n",
        "import pandas as pd\n",
        "import numpy as np\n",
        "import matplotlib.pyplot as plt \n",
        "import seaborn as sns \n",
        "\n",
        "\n",
        "from sklearn.model_selection import train_test_split\n",
        "\n",
        "from sklearn.pipeline import Pipeline\n",
        "from sklearn.compose import ColumnTransformer\n",
        "\n",
        "from sklearn.impute import SimpleImputer\n",
        "from sklearn.preprocessing import MinMaxScaler, OneHotEncoder\n",
        "from sklearn.linear_model import LogisticRegression\n",
        "from sklearn.model_selection import KFold\n",
        "from sklearn.tree import DecisionTreeClassifier\n",
        "from sklearn.ensemble import RandomForestClassifier \n",
        "from sklearn.model_selection import cross_val_score, cross_validate, RepeatedStratifiedKFold\n",
        "\n",
        "from sklearn.metrics import classification_report, make_scorer\n",
        "from sklearn.metrics import confusion_matrix\n",
        "\n",
        "from sklearn.model_selection import learning_curve\n",
        "\n",
        "from sklearn.model_selection import GridSearchCV\n",
        "\n",
        "from sklearn import tree\n",
        "import pydotplus \n",
        "from IPython.display import Image"
      ]
    },
    {
      "cell_type": "markdown",
      "metadata": {
        "id": "X25brD-gQdZM"
      },
      "source": [
        "#**Ejercicio-1.** "
      ]
    },
    {
      "cell_type": "markdown",
      "metadata": {
        "id": "7_eLkBydqdDl"
      },
      "source": [
        "Carga los datos y sustituye los nombres de las columnas del alemán al inglés de acuerdo a como\n",
        "se indica en la página de la UCI."
      ]
    },
    {
      "cell_type": "code",
      "execution_count": null,
      "metadata": {
        "colab": {
          "base_uri": "https://localhost:8080/",
          "height": 300
        },
        "id": "3nU2GuWYCy6C",
        "outputId": "d9949bae-cb3c-4173-95ee-53c06357418d"
      },
      "outputs": [
        {
          "data": {
            "text/html": [
              "\n",
              "  <div id=\"df-d2e60552-4a30-4349-9551-d548f9d943ea\">\n",
              "    <div class=\"colab-df-container\">\n",
              "      <div>\n",
              "<style scoped>\n",
              "    .dataframe tbody tr th:only-of-type {\n",
              "        vertical-align: middle;\n",
              "    }\n",
              "\n",
              "    .dataframe tbody tr th {\n",
              "        vertical-align: top;\n",
              "    }\n",
              "\n",
              "    .dataframe thead th {\n",
              "        text-align: right;\n",
              "    }\n",
              "</style>\n",
              "<table border=\"1\" class=\"dataframe\">\n",
              "  <thead>\n",
              "    <tr style=\"text-align: right;\">\n",
              "      <th></th>\n",
              "      <th>status</th>\n",
              "      <th>duration</th>\n",
              "      <th>credit_history</th>\n",
              "      <th>purpose</th>\n",
              "      <th>amount</th>\n",
              "      <th>savings</th>\n",
              "      <th>employment_duration</th>\n",
              "      <th>installment_rate</th>\n",
              "      <th>personal_status_sex</th>\n",
              "      <th>other_debtors</th>\n",
              "      <th>...</th>\n",
              "      <th>property</th>\n",
              "      <th>age</th>\n",
              "      <th>other_installment_plans</th>\n",
              "      <th>housing</th>\n",
              "      <th>number_credits</th>\n",
              "      <th>job</th>\n",
              "      <th>people_liable</th>\n",
              "      <th>telephone</th>\n",
              "      <th>foreign_worker</th>\n",
              "      <th>credit_risk</th>\n",
              "    </tr>\n",
              "  </thead>\n",
              "  <tbody>\n",
              "    <tr>\n",
              "      <th>0</th>\n",
              "      <td>1</td>\n",
              "      <td>18</td>\n",
              "      <td>4</td>\n",
              "      <td>2</td>\n",
              "      <td>1049</td>\n",
              "      <td>1</td>\n",
              "      <td>2</td>\n",
              "      <td>4</td>\n",
              "      <td>2</td>\n",
              "      <td>1</td>\n",
              "      <td>...</td>\n",
              "      <td>2</td>\n",
              "      <td>21</td>\n",
              "      <td>3</td>\n",
              "      <td>1</td>\n",
              "      <td>1</td>\n",
              "      <td>3</td>\n",
              "      <td>2</td>\n",
              "      <td>1</td>\n",
              "      <td>2</td>\n",
              "      <td>1</td>\n",
              "    </tr>\n",
              "    <tr>\n",
              "      <th>1</th>\n",
              "      <td>1</td>\n",
              "      <td>9</td>\n",
              "      <td>4</td>\n",
              "      <td>0</td>\n",
              "      <td>2799</td>\n",
              "      <td>1</td>\n",
              "      <td>3</td>\n",
              "      <td>2</td>\n",
              "      <td>3</td>\n",
              "      <td>1</td>\n",
              "      <td>...</td>\n",
              "      <td>1</td>\n",
              "      <td>36</td>\n",
              "      <td>3</td>\n",
              "      <td>1</td>\n",
              "      <td>2</td>\n",
              "      <td>3</td>\n",
              "      <td>1</td>\n",
              "      <td>1</td>\n",
              "      <td>2</td>\n",
              "      <td>1</td>\n",
              "    </tr>\n",
              "    <tr>\n",
              "      <th>2</th>\n",
              "      <td>2</td>\n",
              "      <td>12</td>\n",
              "      <td>2</td>\n",
              "      <td>9</td>\n",
              "      <td>841</td>\n",
              "      <td>2</td>\n",
              "      <td>4</td>\n",
              "      <td>2</td>\n",
              "      <td>2</td>\n",
              "      <td>1</td>\n",
              "      <td>...</td>\n",
              "      <td>1</td>\n",
              "      <td>23</td>\n",
              "      <td>3</td>\n",
              "      <td>1</td>\n",
              "      <td>1</td>\n",
              "      <td>2</td>\n",
              "      <td>2</td>\n",
              "      <td>1</td>\n",
              "      <td>2</td>\n",
              "      <td>1</td>\n",
              "    </tr>\n",
              "    <tr>\n",
              "      <th>3</th>\n",
              "      <td>1</td>\n",
              "      <td>12</td>\n",
              "      <td>4</td>\n",
              "      <td>0</td>\n",
              "      <td>2122</td>\n",
              "      <td>1</td>\n",
              "      <td>3</td>\n",
              "      <td>3</td>\n",
              "      <td>3</td>\n",
              "      <td>1</td>\n",
              "      <td>...</td>\n",
              "      <td>1</td>\n",
              "      <td>39</td>\n",
              "      <td>3</td>\n",
              "      <td>1</td>\n",
              "      <td>2</td>\n",
              "      <td>2</td>\n",
              "      <td>1</td>\n",
              "      <td>1</td>\n",
              "      <td>1</td>\n",
              "      <td>1</td>\n",
              "    </tr>\n",
              "    <tr>\n",
              "      <th>4</th>\n",
              "      <td>1</td>\n",
              "      <td>12</td>\n",
              "      <td>4</td>\n",
              "      <td>0</td>\n",
              "      <td>2171</td>\n",
              "      <td>1</td>\n",
              "      <td>3</td>\n",
              "      <td>4</td>\n",
              "      <td>3</td>\n",
              "      <td>1</td>\n",
              "      <td>...</td>\n",
              "      <td>2</td>\n",
              "      <td>38</td>\n",
              "      <td>1</td>\n",
              "      <td>2</td>\n",
              "      <td>2</td>\n",
              "      <td>2</td>\n",
              "      <td>2</td>\n",
              "      <td>1</td>\n",
              "      <td>1</td>\n",
              "      <td>1</td>\n",
              "    </tr>\n",
              "  </tbody>\n",
              "</table>\n",
              "<p>5 rows × 21 columns</p>\n",
              "</div>\n",
              "      <button class=\"colab-df-convert\" onclick=\"convertToInteractive('df-d2e60552-4a30-4349-9551-d548f9d943ea')\"\n",
              "              title=\"Convert this dataframe to an interactive table.\"\n",
              "              style=\"display:none;\">\n",
              "        \n",
              "  <svg xmlns=\"http://www.w3.org/2000/svg\" height=\"24px\"viewBox=\"0 0 24 24\"\n",
              "       width=\"24px\">\n",
              "    <path d=\"M0 0h24v24H0V0z\" fill=\"none\"/>\n",
              "    <path d=\"M18.56 5.44l.94 2.06.94-2.06 2.06-.94-2.06-.94-.94-2.06-.94 2.06-2.06.94zm-11 1L8.5 8.5l.94-2.06 2.06-.94-2.06-.94L8.5 2.5l-.94 2.06-2.06.94zm10 10l.94 2.06.94-2.06 2.06-.94-2.06-.94-.94-2.06-.94 2.06-2.06.94z\"/><path d=\"M17.41 7.96l-1.37-1.37c-.4-.4-.92-.59-1.43-.59-.52 0-1.04.2-1.43.59L10.3 9.45l-7.72 7.72c-.78.78-.78 2.05 0 2.83L4 21.41c.39.39.9.59 1.41.59.51 0 1.02-.2 1.41-.59l7.78-7.78 2.81-2.81c.8-.78.8-2.07 0-2.86zM5.41 20L4 18.59l7.72-7.72 1.47 1.35L5.41 20z\"/>\n",
              "  </svg>\n",
              "      </button>\n",
              "      \n",
              "  <style>\n",
              "    .colab-df-container {\n",
              "      display:flex;\n",
              "      flex-wrap:wrap;\n",
              "      gap: 12px;\n",
              "    }\n",
              "\n",
              "    .colab-df-convert {\n",
              "      background-color: #E8F0FE;\n",
              "      border: none;\n",
              "      border-radius: 50%;\n",
              "      cursor: pointer;\n",
              "      display: none;\n",
              "      fill: #1967D2;\n",
              "      height: 32px;\n",
              "      padding: 0 0 0 0;\n",
              "      width: 32px;\n",
              "    }\n",
              "\n",
              "    .colab-df-convert:hover {\n",
              "      background-color: #E2EBFA;\n",
              "      box-shadow: 0px 1px 2px rgba(60, 64, 67, 0.3), 0px 1px 3px 1px rgba(60, 64, 67, 0.15);\n",
              "      fill: #174EA6;\n",
              "    }\n",
              "\n",
              "    [theme=dark] .colab-df-convert {\n",
              "      background-color: #3B4455;\n",
              "      fill: #D2E3FC;\n",
              "    }\n",
              "\n",
              "    [theme=dark] .colab-df-convert:hover {\n",
              "      background-color: #434B5C;\n",
              "      box-shadow: 0px 1px 3px 1px rgba(0, 0, 0, 0.15);\n",
              "      filter: drop-shadow(0px 1px 2px rgba(0, 0, 0, 0.3));\n",
              "      fill: #FFFFFF;\n",
              "    }\n",
              "  </style>\n",
              "\n",
              "      <script>\n",
              "        const buttonEl =\n",
              "          document.querySelector('#df-d2e60552-4a30-4349-9551-d548f9d943ea button.colab-df-convert');\n",
              "        buttonEl.style.display =\n",
              "          google.colab.kernel.accessAllowed ? 'block' : 'none';\n",
              "\n",
              "        async function convertToInteractive(key) {\n",
              "          const element = document.querySelector('#df-d2e60552-4a30-4349-9551-d548f9d943ea');\n",
              "          const dataTable =\n",
              "            await google.colab.kernel.invokeFunction('convertToInteractive',\n",
              "                                                     [key], {});\n",
              "          if (!dataTable) return;\n",
              "\n",
              "          const docLinkHtml = 'Like what you see? Visit the ' +\n",
              "            '<a target=\"_blank\" href=https://colab.research.google.com/notebooks/data_table.ipynb>data table notebook</a>'\n",
              "            + ' to learn more about interactive tables.';\n",
              "          element.innerHTML = '';\n",
              "          dataTable['output_type'] = 'display_data';\n",
              "          await google.colab.output.renderOutput(dataTable, element);\n",
              "          const docLink = document.createElement('div');\n",
              "          docLink.innerHTML = docLinkHtml;\n",
              "          element.appendChild(docLink);\n",
              "        }\n",
              "      </script>\n",
              "    </div>\n",
              "  </div>\n",
              "  "
            ],
            "text/plain": [
              "   status  duration  credit_history  purpose  amount  savings  \\\n",
              "0       1        18               4        2    1049        1   \n",
              "1       1         9               4        0    2799        1   \n",
              "2       2        12               2        9     841        2   \n",
              "3       1        12               4        0    2122        1   \n",
              "4       1        12               4        0    2171        1   \n",
              "\n",
              "   employment_duration  installment_rate  personal_status_sex  other_debtors  \\\n",
              "0                    2                 4                    2              1   \n",
              "1                    3                 2                    3              1   \n",
              "2                    4                 2                    2              1   \n",
              "3                    3                 3                    3              1   \n",
              "4                    3                 4                    3              1   \n",
              "\n",
              "   ...  property  age  other_installment_plans  housing  number_credits  job  \\\n",
              "0  ...         2   21                        3        1               1    3   \n",
              "1  ...         1   36                        3        1               2    3   \n",
              "2  ...         1   23                        3        1               1    2   \n",
              "3  ...         1   39                        3        1               2    2   \n",
              "4  ...         2   38                        1        2               2    2   \n",
              "\n",
              "   people_liable  telephone  foreign_worker  credit_risk  \n",
              "0              2          1               2            1  \n",
              "1              1          1               2            1  \n",
              "2              2          1               2            1  \n",
              "3              1          1               1            1  \n",
              "4              2          1               1            1  \n",
              "\n",
              "[5 rows x 21 columns]"
            ]
          },
          "execution_count": 3,
          "metadata": {},
          "output_type": "execute_result"
        }
      ],
      "source": [
        "df = pd.read_csv('/content/SouthGermanCredit.asc',sep=' ')\n",
        "df.head()\n",
        "columns =['status','duration','credit_history','purpose','amount','savings','employment_duration','installment_rate','personal_status_sex','other_debtors','present_residence','property','age','other_installment_plans','housing','number_credits','job','people_liable','telephone','foreign_worker','credit_risk']\n",
        "df.columns = columns\n",
        "df.head()\n"
      ]
    },
    {
      "cell_type": "markdown",
      "metadata": {
        "id": "_ybyuTpeGDWh"
      },
      "source": [
        "#**Ejercicio-2.** "
      ]
    },
    {
      "cell_type": "markdown",
      "metadata": {
        "id": "W6pb55cHq-tM"
      },
      "source": [
        "Realiza una partición de los datos en el conjunto de entrenamiento del 85% y el de prueba de\n",
        "15%. Los modelos se estarán entrenando con el método de validación cruzada, así que no es \n",
        "necesario en este paso generar el conjunto de validación. Define como la variable X a todas las\n",
        "variables de entrada y a la variable Y como la variable de salida"
      ]
    },
    {
      "cell_type": "code",
      "execution_count": null,
      "metadata": {
        "colab": {
          "base_uri": "https://localhost:8080/"
        },
        "id": "HxMwT_5qGSS5",
        "outputId": "a9736311-ff3b-4e4e-ad0e-ee9dfa59a630"
      },
      "outputs": [
        {
          "name": "stdout",
          "output_type": "stream",
          "text": [
            "(850, 20) : dimensión de datos de entrada para entrenamiento y validación\n",
            "(150, 20) : dimensión de datos de entrada para prueba\n",
            "(850,) : dimensión de variable de salida para entrenamiento y validación\n",
            "(150,) : dimensión de variable de salida para prueba\n"
          ]
        }
      ],
      "source": [
        "X = df.iloc[:,:-1]  \n",
        "Y = df.iloc[:,-1]  \n",
        "\n",
        "Xtv, Xtest, ytv, ytest = train_test_split(X, Y, test_size=0.15, stratify=Y, random_state=1)  \n",
        "\n",
        "print(Xtv.shape, ': dimensión de datos de entrada para entrenamiento y validación')\n",
        "print(Xtest.shape, ': dimensión de datos de entrada para prueba')  \n",
        "\n",
        "print(ytv.shape, ': dimensión de variable de salida para entrenamiento y validación')\n",
        "print(ytest.shape, ': dimensión de variable de salida para prueba')"
      ]
    },
    {
      "cell_type": "markdown",
      "metadata": {
        "id": "Z7LsTOkaGu5h"
      },
      "source": [
        "#**Ejercicio-3.** "
      ]
    },
    {
      "cell_type": "markdown",
      "metadata": {
        "id": "aI_C20SprWo8"
      },
      "source": [
        "Como una primera aproximación (baseline) realizarás las siguientes transformaciones mínimas\n",
        "para generar los primeros modelos. En la misma página de la UCI se indica el tipo de variable de\n",
        "cada uno de los factores. Definen cuatro tipo de variables: categórica (categorical), ordinal\n",
        "(discretized quantitative), numérica (quantitative) y binaria (binary). Con base a dicha\n",
        "información realiza un Pipeline que incluya al menos las siguientes transformaciones:"
      ]
    },
    {
      "cell_type": "code",
      "execution_count": null,
      "metadata": {
        "colab": {
          "base_uri": "https://localhost:8080/"
        },
        "id": "YXlcSWA-C4Dj",
        "outputId": "c4435199-1393-4d5a-ad4f-34acb37cd01b"
      },
      "outputs": [
        {
          "data": {
            "text/plain": [
              "status                     0\n",
              "duration                   0\n",
              "credit_history             0\n",
              "purpose                    0\n",
              "amount                     0\n",
              "savings                    0\n",
              "employment_duration        0\n",
              "installment_rate           0\n",
              "personal_status_sex        0\n",
              "other_debtors              0\n",
              "present_residence          0\n",
              "property                   0\n",
              "age                        0\n",
              "other_installment_plans    0\n",
              "housing                    0\n",
              "number_credits             0\n",
              "job                        0\n",
              "people_liable              0\n",
              "telephone                  0\n",
              "foreign_worker             0\n",
              "credit_risk                0\n",
              "dtype: int64"
            ]
          },
          "execution_count": 23,
          "metadata": {},
          "output_type": "execute_result"
        }
      ],
      "source": [
        "# Identificamos el número de missing values en cada columna\n",
        "df.isnull().sum()\n",
        "\n"
      ]
    },
    {
      "cell_type": "markdown",
      "metadata": {
        "id": "8I8UoQ5CoI0Y"
      },
      "source": [
        "Como podemos ver no hay datos pérdidos, de cualquier forma creamos las transformaciones que se indican en el ejercicio.\n",
        "\n",
        "Hacemos la imputación a los datos pérdidos de tipo númerico lo hacemos a través de la mediana que es una estadística robusta (no es sensible a valores atípicos), y los escalamos para que sean comparables.\n",
        "\n",
        "Los de tipos categórico y binario los imputamos a través de la moda ( el valor más frecuente).Como se indica aplicamos la transformación One-Hot; la estrategia que implementa es crear una columna para cada valor distinto que exista en la característica que estamos codificando y, para cada registro, marcar con un 1 la columna a la que pertenezca dicho registro y dejar las demás con 0, es de mayor relevancia en las de tipo binario pues las codifica de esta forma y evita tener otro tipo de valores/datos. "
      ]
    },
    {
      "cell_type": "markdown",
      "metadata": {
        "id": "14Uo0Cbnrrp7"
      },
      "source": [
        "- a) Imputación a todas las variables de entrada, diferenciando entre el tipo de cada variable\n",
        "(decide y justifica que tipo de imputación realizas en cada caso).\n",
        "- b) Realiza un análisis de las variables numéricas (quantitative) de entrada y aplica una\n",
        "transformación que escale a todas ellas en un rango equiparable. "
      ]
    },
    {
      "cell_type": "code",
      "execution_count": null,
      "metadata": {
        "id": "K-I1qKnvRtqK"
      },
      "outputs": [],
      "source": [
        "# Transformaciones a factores numéricos de entrada:\n",
        "num_pipeline = Pipeline(steps = [('impMediana', SimpleImputer(strategy='median')),\n",
        "                                 ('escalaNum', MinMaxScaler(feature_range=(1,2)))])   \n",
        "num_pipeline_nombres = ['duration','amount','age']"
      ]
    },
    {
      "cell_type": "markdown",
      "metadata": {
        "id": "ILySdq6d5iIT"
      },
      "source": [
        "JUSTIFICACION IMPUTACIONES PARA VARIABLES NUMERICAS:\n",
        "\n",
        "Para el conjunto de feactures numericos se puede tomar en este caso: 'duration' , 'amount' y 'age' , y al ser las 3 variables de naturaleza continua se utiliza la imputacion \"median\"."
      ]
    },
    {
      "cell_type": "code",
      "execution_count": null,
      "metadata": {
        "id": "vwTjupU95hiq"
      },
      "outputs": [],
      "source": [
        "# Transformaciones a factores categóricos de entrada( a partir de people_liable son binarias):\n",
        "catImp_pipeline = Pipeline(steps = [('impModa', SimpleImputer(strategy='most_frequent'))])  \n",
        "catImp_pipeline_nombres = ['status', 'purpose', 'savings', 'personal_status_sex', 'other_debtors', 'other_installment_plans', 'housing','people_liable','telephone','foreign_worker']"
      ]
    },
    {
      "cell_type": "markdown",
      "metadata": {
        "id": "ubBzQ3B95hS5"
      },
      "source": [
        "JUSTIFICACION IMPUTACIONES PARA VARIABLES CATEGORIAS:\n",
        "\n",
        "Para el conjunto de feactures categoricos, usamos: 'status' ,  'purpose', 'savings' ,  'personal_status_sex' , 'other_debtors', 'other_installment_plans' , 'housing','people_liable','telephone' , 'foreign_worker , y  el imputador que usamos es el 'most_frequent' entendiendo que la mayoria de variables son nominales."
      ]
    },
    {
      "cell_type": "markdown",
      "metadata": {
        "id": "rCReV0SOsC5B"
      },
      "source": [
        "- c)  Aplica la transformación One-Hot encoding a las variables de entrada de tipo categórico y\n",
        "binaria. En particular, justifica por qué una variable binaria requeriría que se le aplique la\n",
        "transformación one-hot encoding. Por el momento dejar las variables ordinales sin\n",
        "transformar. "
      ]
    },
    {
      "cell_type": "markdown",
      "metadata": {
        "id": "f1I2Whfj4GKq"
      },
      "source": [
        "JUSTIFICACIÓN ONE HOT - ENCODING: \n",
        "\n",
        "La transformación de one hot encoding crea una columna para cada valor distinto que exista en la característica que estamos codificando, de tal forma que, marca con un 1 la columna a la que pertenezca dicho registro y dejar las demás con 0. Esto permite resumir la información de las variables categóricas, y que puedan ser utilizados en distintos algoritmos de machine learning. \n",
        "En específico, aplciarla a una variable binaria, permite transformar el tipo de dato en numérico, y que este sea aplicable a cualquier algormitmo. \n",
        "Por ejemplo, una variable como género con los valores ('hombre','mujer') se aplica la transformación ONE-HOT-ENCODING y permite resumir la información y trasladar la información a numérico. \n",
        "\n"
      ]
    },
    {
      "cell_type": "code",
      "execution_count": null,
      "metadata": {
        "id": "r1L8cu4ZsCWn"
      },
      "outputs": [],
      "source": [
        "# Transformaciones one-hot-encoder de las categóricas y binarias:\n",
        "catOHE_pipeline = Pipeline(steps = [('OneHotE', OneHotEncoder(drop='first',handle_unknown='ignore'))])\n",
        "catOHE_pipeline_nombres = ['status', 'purpose', 'savings', 'personal_status_sex', 'other_debtors', 'other_installment_plans', 'housing','people_liable','telephone','foreign_worker']\n",
        "\n",
        "# Conjuntamos las transformaciones numéricas y categóricas que se estarán aplicando a los datos de entrada:\n",
        "columnasTransformer = ColumnTransformer(transformers = [('numpipe', num_pipeline, num_pipeline_nombres),\n",
        "                                                        ('catimp', catImp_pipeline, catImp_pipeline_nombres),\n",
        "                                                        ('catohe', catOHE_pipeline, catOHE_pipeline_nombres)],\n",
        "                                        remainder='passthrough')"
      ]
    },
    {
      "cell_type": "markdown",
      "metadata": {
        "id": "chqk9jIDC5Pq"
      },
      "source": [
        "#**Ejercicio-4.**"
      ]
    },
    {
      "cell_type": "markdown",
      "metadata": {
        "id": "zb7rm7eps8KL"
      },
      "source": [
        " Llevarás un entrenamiento usando validación cruzada entre los siguientes tres modelos de\n",
        "aprendizaje automático: Regresión Logística, Árbol de Decisión y Bosque Aleatorio. Deberás\n",
        "llevar a cabo el entrenamiento de los tres de manera conjunta usando un ciclo FOR. Recuerda\n",
        "aplicar las transformaciones que definiste en tu Pipeline. El entrenamiento debe ser con las\n",
        "siguientes características: "
      ]
    },
    {
      "cell_type": "markdown",
      "metadata": {
        "id": "qKFIEUrhtATK"
      },
      "source": [
        "- a) Usa los parámetros predeterminados de cada modelo"
      ]
    },
    {
      "cell_type": "code",
      "execution_count": null,
      "metadata": {
        "id": "RBVSFwK4C6g9"
      },
      "outputs": [],
      "source": [
        "def get_models():\n",
        " modelos, nombres = list(), list()\n",
        "\n",
        "# LR - Regresión Logística:\n",
        " modelos.append(LogisticRegression(solver='liblinear'))\n",
        " nombres.append('LR')\n",
        "\n",
        "# DT - Árbol de Decisión:\n",
        " modelos.append(DecisionTreeClassifier())\n",
        " nombres.append('DT')\n",
        "\n",
        "# DT - Bosques Aleatorios:\n",
        " modelos.append(RandomForestClassifier())\n",
        " nombres.append('RF')\n",
        "  \n",
        " return modelos, nombres"
      ]
    },
    {
      "cell_type": "markdown",
      "metadata": {
        "id": "8RT5xFFes-la"
      },
      "source": [
        "- b) En cada iteración deben calcularse todas las siguientes métricas: accuracy, precision,\n",
        "recall, f1-score y Gmean. Todas estas métricas deben ser funciones que tú mismo debes\n",
        "definir (Es decir, no usar las funciones de dichas métricas que te proporciona scikit-learn.\n",
        "Sin embargo, sí puedes usar la información regresada por el método confusion_matrix()\n",
        "de scikit-learn para definir las métricas)."
      ]
    },
    {
      "cell_type": "code",
      "execution_count": null,
      "metadata": {
        "id": "QBMl8PVOg0gc"
      },
      "outputs": [],
      "source": [
        "### Definición de Funciones para cálculo de Métricas\n",
        "\n",
        "def mi_accuracy(yreal, ypred):\n",
        "  m_c = confusion_matrix(yreal, ypred)\n",
        "  accuracy = (m_c[0,0] + m_c[1,1]) /(m_c[0,0] + m_c[1,1] + m_c[0,1] + m_c[1,0])\n",
        "  return accuracy\n",
        "\n",
        "def mi_precision(yreal, ypred): \n",
        "  m_c = confusion_matrix(yreal, ypred)\n",
        "  precision = m_c[1,1] / (m_c[1,1] + m_c[0,1])\n",
        "  return precision\n",
        "\n",
        "def mi_recall(yreal, ypred):\n",
        "  m_c = confusion_matrix(yreal, ypred)  \n",
        "  recall = (m_c[1,1]) / (m_c[1,1] + m_c[1,0])\n",
        "  return recall\n",
        "\n",
        "def mi_f1_score(yreal, ypred):\n",
        "  m_c = confusion_matrix(yreal, ypred)  \n",
        "  f1_score = (2*m_c[1,1]) / ((2*m_c[1,1]) + m_c[0,1] + m_c[1,0])\n",
        "  return f1_score\n",
        "\n",
        "def mi_gmean(yreal, ypred):\n",
        "  m_c = confusion_matrix(yreal, ypred)\n",
        "  recall = m_c[1,1] / (m_c[1,1] + m_c[1,0])\n",
        "  especificidad = m_c[0,0] / (m_c[0,0] + m_c[0,1])\n",
        "  gmean = np.sqrt(recall*especificidad)\n",
        "  return gmean\n",
        "    \n"
      ]
    },
    {
      "cell_type": "markdown",
      "metadata": {
        "id": "C0gmzTdhtM2S"
      },
      "source": [
        "- c) Usar validación cruzada estratificada con 5 particiones y con 3 repeticiones."
      ]
    },
    {
      "cell_type": "code",
      "execution_count": null,
      "metadata": {
        "colab": {
          "base_uri": "https://localhost:8080/"
        },
        "id": "7KXnlNzAC69Y",
        "outputId": "91a0c25d-dcf9-4964-c94d-b05d593b00b6"
      },
      "outputs": [
        {
          "name": "stdout",
          "output_type": "stream",
          "text": [
            ">> LR: 0.764 (0.039)\n",
            ">> DT: 0.688 (0.051)\n",
            ">> RF: 0.761 (0.033)\n"
          ]
        }
      ],
      "source": [
        "modelos, nombres = get_models()\n",
        "resultados = list()   \n",
        "\n",
        "for i in range(len(modelos)):\n",
        "\n",
        "  pipeline = Pipeline(steps=[('ct',columnasTransformer),('m',modelos[i])])\n",
        "\n",
        "  cv = RepeatedStratifiedKFold(n_splits=10, n_repeats=3, random_state=0)\n",
        "  scores = cross_val_score(pipeline, Xtv, np.ravel(ytv), scoring=make_scorer(mi_accuracy, greater_is_better=True), cv=cv)\n",
        "\n",
        "  resultados.append(scores)\n",
        "  print('>> %s: %.3f (%.3f)' % (nombres[i], np.mean(scores), np.std(scores)))"
      ]
    },
    {
      "cell_type": "code",
      "execution_count": null,
      "metadata": {
        "colab": {
          "base_uri": "https://localhost:8080/"
        },
        "id": "GVEyHW_ymAl1",
        "outputId": "652586d7-2264-4cfa-bdb3-3d8b0e307fa6"
      },
      "outputs": [
        {
          "name": "stdout",
          "output_type": "stream",
          "text": [
            "LR:\n",
            "mean Train Accuracy: 0.799 (0.0074)\n",
            "mean Test Accuracy: 0.769 (0.0238)\n",
            "mean Train Precision: 0.824 (0.0069)\n",
            "mean Test Precision: 0.806 (0.0196)\n",
            "mean Train Recall: 0.906 (0.0062)\n",
            "mean Test Recall: 0.883 (0.0275)\n",
            "mean Train F1_Score: 0.863 (0.0048)\n",
            "mean Test F1_Score: 0.842 (0.0165)\n",
            "mean Train Gmean: 0.705 (0.0138)\n",
            "mean Test Gmean: 0.664 (0.0430)\n",
            "\n",
            "DT:\n",
            "mean Train Accuracy: 1.000 (0.0000)\n",
            "mean Test Accuracy: 0.699 (0.0300)\n",
            "mean Train Precision: 1.000 (0.0000)\n",
            "mean Test Precision: 0.788 (0.0266)\n",
            "mean Train Recall: 1.000 (0.0000)\n",
            "mean Test Recall: 0.783 (0.0429)\n",
            "mean Train F1_Score: 1.000 (0.0000)\n",
            "mean Test F1_Score: 0.784 (0.0235)\n",
            "mean Train Gmean: 1.000 (0.0000)\n",
            "mean Test Gmean: 0.625 (0.0501)\n",
            "\n",
            "RF:\n",
            "mean Train Accuracy: 1.000 (0.0000)\n",
            "mean Test Accuracy: 0.762 (0.0225)\n",
            "mean Train Precision: 1.000 (0.0000)\n",
            "mean Test Precision: 0.788 (0.0125)\n",
            "mean Train Recall: 1.000 (0.0000)\n",
            "mean Test Recall: 0.901 (0.0267)\n",
            "mean Train F1_Score: 1.000 (0.0000)\n",
            "mean Test F1_Score: 0.841 (0.0163)\n",
            "mean Train Gmean: 1.000 (0.0000)\n",
            "mean Test Gmean: 0.626 (0.0284)\n",
            "\n"
          ]
        }
      ],
      "source": [
        "## Entrenar y calcular las métricas solicitadas bajo los modelos con parámetros en default\n",
        "modelos, nombres = get_models()\n",
        "resultados = list()   \n",
        "\n",
        "for i in range(len(modelos)):\n",
        "\n",
        "  kfold = RepeatedStratifiedKFold(n_splits=5, n_repeats=3, random_state=1234)\n",
        "  \n",
        "  pipeline = Pipeline(steps=[('ct',columnasTransformer),('m',modelos[i])])\n",
        "\n",
        "  mismetricas = {'accuracy':make_scorer(mi_accuracy, greater_is_better=True),\n",
        "                 'precision':make_scorer(mi_precision, greater_is_better=True), \n",
        "                 'recall': make_scorer(mi_recall, greater_is_better=True), \n",
        "                 'f1_score': make_scorer(mi_f1_score, greater_is_better=True),                  \n",
        "                 'gmean':make_scorer(mi_gmean, greater_is_better=True)}\n",
        "  \n",
        "  resultados_print = cross_validate(pipeline,Xtv,np.ravel(ytv),scoring=mismetricas,cv=kfold, return_train_score=True)\n",
        "\n",
        "  resultados.append(resultados_print) \n",
        "\n",
        "  print('%s:\\nmean Train Accuracy: %.3f (%.4f)\\nmean Test Accuracy: %.3f (%.4f)\\nmean Train Precision: %.3f (%.4f)\\nmean Test Precision: %.3f (%.4f)\\nmean Train Recall: %.3f (%.4f)\\nmean Test Recall: %.3f (%.4f)\\nmean Train F1_Score: %.3f (%.4f)\\nmean Test F1_Score: %.3f (%.4f)\\nmean Train Gmean: %.3f (%.4f)\\nmean Test Gmean: %.3f (%.4f)\\n' % (nombres[i],\n",
        "                                                                          np.mean(resultados_print['train_accuracy']),\n",
        "                                                                          np.std(resultados_print['train_accuracy']),\n",
        "                                                                          np.mean(resultados_print['test_accuracy']),\n",
        "                                                                          np.std(resultados_print['test_accuracy']),\n",
        "                                                                          \n",
        "                                                                          np.mean(resultados_print['train_precision']),\n",
        "                                                                          np.std(resultados_print['train_precision']), \n",
        "                                                                          np.mean(resultados_print['test_precision']),\n",
        "                                                                          np.std(resultados_print['test_precision']), \n",
        "                                                                          \n",
        "                                                                          np.mean(resultados_print['train_recall']),\n",
        "                                                                          np.std(resultados_print['train_recall']),\n",
        "                                                                          np.mean(resultados_print['test_recall']),\n",
        "                                                                          np.std(resultados_print['test_recall']),\n",
        "                                                                          \n",
        "                                                                          np.mean(resultados_print['train_f1_score']),\n",
        "                                                                          np.std(resultados_print['train_f1_score']),\n",
        "                                                                          np.mean(resultados_print['test_f1_score']),\n",
        "                                                                          np.std(resultados_print['test_f1_score']),\n",
        "                                                                          \n",
        "                                                                          np.mean(resultados_print['train_gmean']),\n",
        "                                                                          np.std(resultados_print['train_gmean']),  \n",
        "                                                                          np.mean(resultados_print['test_gmean']),\n",
        "                                                                          np.std(resultados_print['test_gmean'])\n",
        "                                                                          \n",
        "                                                                          ))\n",
        "\n",
        "  \n",
        "  "
      ]
    },
    {
      "cell_type": "code",
      "execution_count": null,
      "metadata": {
        "colab": {
          "base_uri": "https://localhost:8080/",
          "height": 269
        },
        "id": "AHvqR66WoNZz",
        "outputId": "5ac547e1-8570-486e-b0d7-ecf335a63353"
      },
      "outputs": [
        {
          "data": {
            "image/png": "[encoded data removed]",
            "text/plain": [
              "<Figure size 576x288 with 1 Axes>"
            ]
          },
          "metadata": {},
          "output_type": "display_data"
        }
      ],
      "source": [
        "### diagramas de caja y bigotes de los tres modelos con la métrica “recall” en TEST\n",
        "sns.set(rc={'figure.figsize':(8,4)})\n",
        "\n",
        "recall_list = list()\n",
        "for i in range(len(resultados)):\n",
        "  valor = resultados[i]['test_recall']\n",
        "  recall_list.append(valor)\n",
        "\n",
        "plt.boxplot(recall_list, labels=nombres, showmeans=True)\n",
        "\n",
        "plt.show()"
      ]
    },
    {
      "cell_type": "markdown",
      "metadata": {
        "id": "L1Srd5Ua6jau"
      },
      "source": [
        "- d) Imprimir el valor de todas estas métricas, tanto para los datos de entrenamiento, como\n",
        "para los de validación. Así como los diagramas de caja y bigotes de los tres modelos con la\n",
        "métrica “recall”. ¿Alguno de los modelos está subentrenado o sobreentrenado? Justifica tu\n",
        "respuesta. "
      ]
    },
    {
      "cell_type": "markdown",
      "metadata": {
        "id": "tkULAZXQ6kZH"
      },
      "source": [
        "RESPUESTA:\n",
        "\n",
        "Para las metricas de Recall en conjunto con los tres modelos se puede llegar a las siguientes conclusiones:\n",
        "\n",
        "LR: El modelo se presenta como optimo dado que presenta una variacion minima de 2% menos el recall en el conjunto de entrenamiento con el conjunto de prueba, se puede determinar que se comporta bastante bien con los datos que no ha conocido el modelo.\n",
        "\n",
        "DT: El modelo se presenta como sobreentrenado, evidentemente si el recall con el conjunto de entrenamiento tiene un 100% de ajuste es porque no va funcionar cuando se presenten los datos reales, incluso en las curvas de aprendizaje se ve la brecha entre entre entrenamiento y prueba lo que se traduce como un exceso de varianza en el modelo.\n",
        "\n",
        "RF: El modelo se presenta como sobreentrenado, misma situacion, si en un modelo el conjunto de entrenamiento esta en el 100% eso puede traducir claramente que presenta un sobreentrenamiento y que en una situacion fuera de los datos con los que se entreno su exactitud ira disminuyendo."
      ]
    },
    {
      "cell_type": "code",
      "execution_count": null,
      "metadata": {
        "colab": {
          "base_uri": "https://localhost:8080/",
          "height": 301
        },
        "id": "U7OHtM0Hv1Pg",
        "outputId": "cbeaedad-da63-4f65-eb20-10ace2791749"
      },
      "outputs": [
        {
          "data": {
            "image/png": "[encoded data removed]",
            "text/plain": [
              "<Figure size 576x288 with 1 Axes>"
            ]
          },
          "metadata": {},
          "output_type": "display_data"
        }
      ],
      "source": [
        "### Learning Curve para Regresión Logística\n",
        "## Iterando sobre el tamaño del conjunto de entrenamiento \"Observando el F1_Score\"\n",
        "\n",
        "delta_train_sz = np.linspace(0.1, 1.0, 20)\n",
        "\n",
        "cvLC = RepeatedStratifiedKFold(n_splits=5, n_repeats=3, random_state=11)\n",
        "\n",
        "modelo = LogisticRegression(solver='liblinear')\n",
        "\n",
        "train_sizes, train_scores, valid_scores = learning_curve(estimator=modelo, \n",
        "                                                        X=Xtv, \n",
        "                                                        y=np.ravel(ytv),\n",
        "                                                        cv=cvLC, \n",
        "                                                        train_sizes=delta_train_sz,\n",
        "                                                        scoring=make_scorer(mi_f1_score, greater_is_better=True))\n",
        "\n",
        "\n",
        "\n",
        "# Obtengamos la gráfica de las curvas de aprendizaje \n",
        "# cuando se incrementa el tamaño de la muestra:\n",
        "\n",
        "train_mean = np.mean(train_scores, axis=1)\n",
        "train_std = np.std(train_scores, axis=1)\n",
        "valid_mean = np.mean(valid_scores, axis=1)\n",
        "valid_std = np.std(valid_scores, axis=1)\n",
        "\n",
        "plt.plot(train_sizes, train_mean, color='blue', marker='o', markersize=5, label='Training')\n",
        "\n",
        "plt.plot(train_sizes, valid_mean, color='red', marker='o', markersize=5, label='Validation')\n",
        "\n",
        "plt.title('Función learning_curve()')\n",
        "plt.xlabel('Tamaño del conjunto de entrenamiento')\n",
        "plt.ylabel('F1_Score')\n",
        "plt.grid()\n",
        "plt.legend(loc='lower right')\n",
        "plt.show()"
      ]
    },
    {
      "cell_type": "code",
      "execution_count": null,
      "metadata": {
        "colab": {
          "base_uri": "https://localhost:8080/",
          "height": 301
        },
        "id": "LuMaartJ4ppy",
        "outputId": "d4005145-cb3e-448c-caa3-a09163171fd5"
      },
      "outputs": [
        {
          "data": {
            "image/png": "[encoded data removed]",
            "text/plain": [
              "<Figure size 576x288 with 1 Axes>"
            ]
          },
          "metadata": {},
          "output_type": "display_data"
        }
      ],
      "source": [
        "### Learning Curve para Decision Tree\n",
        "## Iterando sobre el tamaño la profundidad del árbol y observando el \"F1 Score \"\n",
        "\n",
        "delta_max_depth = np.linspace(1, 20, 20)\n",
        "\n",
        "resultados_train = list()\n",
        "resultados_test = list()\n",
        "\n",
        "for i in delta_max_depth:\n",
        " \n",
        "  cvLC = RepeatedStratifiedKFold(n_splits=5, n_repeats=3, random_state=11)\n",
        "\n",
        "  modelo = DecisionTreeClassifier(max_depth=i)\n",
        "\n",
        "  resultados_max_depth = cross_validate(modelo,Xtv,np.ravel(ytv),scoring=make_scorer(mi_f1_score, greater_is_better=True),\n",
        "                                  cv=cvLC, return_train_score=True)\n",
        "  \n",
        "  resultados_train.append(np.mean(resultados_max_depth['train_score']))\n",
        "\n",
        "  resultados_test.append(np.mean(resultados_max_depth['test_score']))\n",
        "  \n",
        "# Obtengamos la gráfica de las curvas de aprendizaje \n",
        "# cuando se incrementa el tamaño de la muestra:\n",
        "\n",
        "plt.plot(delta_max_depth, resultados_train, color='blue', marker='o', markersize=5, label='Training')\n",
        "\n",
        "plt.plot(delta_max_depth, resultados_test, color='red', marker='o', markersize=5, label='Validation')\n",
        "\n",
        "plt.title('Función learning_curve()')\n",
        "plt.xlabel('Profundidad del árbol')\n",
        "plt.ylabel('F1_Score')\n",
        "plt.grid()\n",
        "plt.legend(loc='lower right')\n",
        "plt.show()"
      ]
    },
    {
      "cell_type": "code",
      "execution_count": null,
      "metadata": {
        "id": "fVDEvZuLz1mj"
      },
      "outputs": [],
      "source": []
    },
    {
      "cell_type": "code",
      "execution_count": null,
      "metadata": {
        "colab": {
          "base_uri": "https://localhost:8080/",
          "height": 301
        },
        "id": "p2xpnY2jx173",
        "outputId": "fe895a41-8a7a-407b-cc7a-ed69a5cc53a0"
      },
      "outputs": [
        {
          "data": {
            "image/png": "[encoded data removed]",
            "text/plain": [
              "<Figure size 576x288 with 1 Axes>"
            ]
          },
          "metadata": {},
          "output_type": "display_data"
        }
      ],
      "source": [
        "### Learning Curve para Random Forest\n",
        "## Iterando sobre el tamaño del conjunto de entrenamiento y observando el \"Recall\"\n",
        "\n",
        "delta_train_sz = np.linspace(0.1, 1.0, 20)\n",
        "\n",
        "cvLC = RepeatedStratifiedKFold(n_splits=5, n_repeats=3, random_state=11)\n",
        "\n",
        "modelo = RandomForestClassifier()\n",
        "\n",
        "train_sizes, train_scores, valid_scores = learning_curve(estimator=modelo, \n",
        "                                                        X=Xtv, \n",
        "                                                        y=np.ravel(ytv),\n",
        "                                                        cv=cvLC, \n",
        "                                                        train_sizes=delta_train_sz,\n",
        "                                                        scoring=make_scorer(mi_recall, greater_is_better=True))\n",
        "\n",
        "\n",
        "\n",
        "# Obtengamos la gráfica de las curvas de aprendizaje \n",
        "# cuando se incrementa el tamaño de la muestra:\n",
        "\n",
        "train_mean = np.mean(train_scores, axis=1)\n",
        "train_std = np.std(train_scores, axis=1)\n",
        "valid_mean = np.mean(valid_scores, axis=1)\n",
        "valid_std = np.std(valid_scores, axis=1)\n",
        "\n",
        "plt.plot(train_sizes, train_mean, color='blue', marker='o', markersize=5, label='Training')\n",
        "\n",
        "plt.plot(train_sizes, valid_mean, color='red', marker='o', markersize=5, label='Validation')\n",
        "\n",
        "plt.title('Función learning_curve()')\n",
        "plt.xlabel('Tamaño del conjunto de entrenamiento')\n",
        "plt.ylabel('Recall')\n",
        "plt.grid()\n",
        "plt.legend(loc='lower right')\n",
        "plt.show()"
      ]
    },
    {
      "cell_type": "markdown",
      "metadata": {
        "id": "dqHy-1EirBWZ"
      },
      "source": [
        "¿Alguno de los modelos está subentrenado o sobreentrenado?\n"
      ]
    },
    {
      "cell_type": "markdown",
      "metadata": {
        "id": "Rv7KFq-mC7PS"
      },
      "source": [
        "#**Ejercicio-5.**"
      ]
    },
    {
      "cell_type": "markdown",
      "metadata": {
        "id": "4xIhIUzD7bVG"
      },
      "source": [
        "Finalmente veamos la manera de mejorar los valores de los hiperparámetros de cada modelo, así\n",
        "como el problema del sobreentrenamiento de algunos de ellos. Para ello deberás usar el método\n",
        "GridSearchCV() de scikit-learn. Recuerda que este método hace una búsqueda de los mejores\n",
        "hiperparámetros de un modelo mediante el llamada formato de malla y aplicando validación\n",
        "cruzada. En cada caso puedes incrementar el máximo de iteraciones,”max_iter” para que tengas\n",
        "la convergencia adecuada para todas las combinaciones en cada modelo. Recuerda también\n",
        "aplicar las transformaciones que definiste en tu Pipeline. Para fines de este ejercicio se ha\n",
        "seleccionado para cada modelo una métrica diferente, que permita irte familiarizando con ellas. "
      ]
    },
    {
      "cell_type": "markdown",
      "metadata": {
        "id": "4WRNPIap7fcj"
      },
      "source": [
        "- a) Para el modelo de regresión logística realizar el entrenamiento buscando sus mejores\n",
        "hiperparámetros con GridSearchCV(). Los hiperparámetros que debes incluir en su\n",
        "búsqueda deben ser al menos los siguientes: C, solver, class_weight y penalty. En este caso\n",
        "deberás usar la métrica (scoring) “f1-score”. Imprime la mejor combinación de\n",
        "parámetros obtenidos, así como el valor del mejor desempeño (score) obtenido con la\n",
        "métrica f1. ¿Cuál es la utilidad de la métrica “f1-score”? Incluye tus conclusiones. "
      ]
    },
    {
      "cell_type": "code",
      "execution_count": null,
      "metadata": {
        "id": "jaDj3kawC9B6"
      },
      "outputs": [],
      "source": [
        "# a)\n",
        "\n",
        "modelo = LogisticRegression(solver='liblinear',max_iter=5000)\n",
        "\n",
        "#Definimos varios diccionarios para evitar combinaciones que no son posibles\n",
        "\n",
        "# Diccionario para determinar la mejor combinación de los parámetros requeridos , consideremos que no todas las opciones posibles\n",
        "# de parámetros se pueden combinar por ello seleccionamos solo aquellas posibles\n",
        "dicc_grid_penalty={'C':[0.00001,0.0001,0.01,0.1,1.0,10.,100.,1000.,10000.],\n",
        "                   'penalty':['l1','l2'],\n",
        "                   'class_weight':['balanced', None],\n",
        "                   'solver':['liblinear','saga']\n",
        "             }\n",
        "\n",
        "cv = RepeatedStratifiedKFold(n_splits=10, n_repeats=5, random_state=8)\n",
        "\n",
        "\n",
        "grid = GridSearchCV(estimator=modelo, \n",
        "                    param_grid=dicc_grid_penalty, \n",
        "                    cv=cv, \n",
        "                    scoring=make_scorer(mi_f1_score, greater_is_better=True))"
      ]
    },
    {
      "cell_type": "code",
      "execution_count": null,
      "metadata": {
        "colab": {
          "base_uri": "https://localhost:8080/"
        },
        "id": "pCI13C4z8Aog",
        "outputId": "1fe4effd-ce24-49a6-a4f2-3a5836385bc7"
      },
      "outputs": [
        {
          "name": "stdout",
          "output_type": "stream",
          "text": [
            "Mejor valor de exactitud obtenido con la mejor combinación: 0.8473530006515376\n",
            "Mejor combinación de valores encontrados de los hiperparámetros: {'C': 1.0, 'class_weight': None, 'penalty': 'l1', 'solver': 'liblinear'}\n",
            "Métrica utilizada: make_scorer(mi_f1_score)\n"
          ]
        }
      ],
      "source": [
        "# Transformamos los datos de entrada:\n",
        "Xx = columnasTransformer.fit_transform(Xtv)\n",
        "\n",
        "# Llevamos a cabo el proceso de etrenamiento con validación-cruzada y búsqueda de malla.\n",
        "# Observa que de acuerdo a las opciones incluidas en la malla, se estarán realizando (6)(5)=30 \n",
        "# combinaciones diferentes, además de las (10)(5)=50 particiones de la validación-cruzada,\n",
        "# lo cual implica también un mayor tiempo de entrenamiento.\n",
        "\n",
        "grid.fit(Xx, np.ravel(ytv))\n",
        "\n",
        "print('Mejor valor de exactitud obtenido con la mejor combinación:', grid.best_score_)\n",
        "print('Mejor combinación de valores encontrados de los hiperparámetros:', grid.best_params_)\n",
        "print('Métrica utilizada:', grid.scoring)\n",
        "\n",
        "#Mejor valor de exactitud obtenido con la mejor combinación: 0.8473344389964989\n",
        "#Mejor combinación de valores encontrados de los hiperparámetros: {'C': 1.0, 'class_weight': None, 'penalty': 'l1', 'solver': 'saga'}\n",
        "#Métrica utilizada: make_scorer(mi_f1_score)"
      ]
    },
    {
      "cell_type": "markdown",
      "metadata": {
        "id": "N-_cnO0_r8SX"
      },
      "source": [
        "####¿Cuál es la utilidad de la métrica “f1-score”? \n",
        "\n",
        "Es de gran utilidad cuando se desea tener un balance entre Precision y Recall , adicionalmente si hay una distribución de clases desigual (gran número de negativos reales).Es práctico porque hace más fácil el poder comparar el rendimiento combinado de la precisión y la exhaustividad entre varias soluciones.\n",
        "\n",
        "El valor F1 asume que nos importa de igual forma la precisión y la exhaustividad. Esto no tiene que ser así en todos los problemas.\n"
      ]
    },
    {
      "cell_type": "markdown",
      "metadata": {
        "id": "Rp2I-6mk7ioF"
      },
      "source": [
        "- b) Con los mejores valores de los hiperparámetros encontrados con la métrica “f1-score”\n",
        "para el modelo de regresión logística, obtener las curvas de aprendizaje (learning curve),\n",
        "incrementando el tamaño del conjunto de entrenamiento al menos 20 veces. Si lo crees\n",
        "adecuado, puedes hacer los ajustes que consideres adecuados para mejorar el resultado y\n",
        "evitar el sobreentrenamiento o el subentrenamiento. "
      ]
    },
    {
      "cell_type": "code",
      "execution_count": null,
      "metadata": {
        "colab": {
          "base_uri": "https://localhost:8080/",
          "height": 301
        },
        "id": "gKzvX32szUiL",
        "outputId": "9fcbc108-f16f-4047-d812-703094e0ea86"
      },
      "outputs": [
        {
          "data": {
            "image/png": "[encoded data removed]",
            "text/plain": [
              "<Figure size 576x288 with 1 Axes>"
            ]
          },
          "metadata": {},
          "output_type": "display_data"
        }
      ],
      "source": [
        "# b)\n",
        "### Learning Curve para Regresión Logística usando los mejores hiperparametros\n",
        "## Iterando sobre el tamaño del conjunto de entrenamiento \"Observando el F1_Score\"\n",
        "\n",
        "delta_train_sz = np.linspace(0.1, 1.0, 20)\n",
        "\n",
        "cv = RepeatedStratifiedKFold(n_splits=10, n_repeats=5, random_state=8)\n",
        "\n",
        "modelo = LogisticRegression(C=1., penalty='l1', class_weight=None, solver='liblinear')\n",
        "\n",
        "train_sizes, train_scores, valid_scores = learning_curve(estimator=modelo, \n",
        "                                                        X=Xx, \n",
        "                                                        y=np.ravel(ytv),\n",
        "                                                        cv=cv, \n",
        "                                                        train_sizes=delta_train_sz,\n",
        "                                                        scoring=make_scorer(mi_f1_score, greater_is_better=True))\n",
        "\n",
        "\n",
        "\n",
        "# Obtengamos la gráfica de las curvas de aprendizaje \n",
        "# cuando se incrementa el tamaño de la muestra:\n",
        "\n",
        "train_mean = np.mean(train_scores, axis=1)\n",
        "train_std = np.std(train_scores, axis=1)\n",
        "valid_mean = np.mean(valid_scores, axis=1)\n",
        "valid_std = np.std(valid_scores, axis=1)\n",
        "\n",
        "plt.plot(train_sizes, train_mean, color='blue', marker='o', markersize=5, label='Training')\n",
        "\n",
        "plt.plot(train_sizes, valid_mean, color='red', marker='o', markersize=5, label='Validation')\n",
        "\n",
        "plt.title('Función learning_curve()')\n",
        "plt.xlabel('Tamaño del conjunto de entrenamiento')\n",
        "plt.ylabel('F1_Score')\n",
        "plt.grid()\n",
        "plt.legend(loc='lower right')\n",
        "plt.show()"
      ]
    },
    {
      "cell_type": "markdown",
      "metadata": {
        "id": "yiV2sbtc7o_7"
      },
      "source": [
        "- c) Para el modelo de árbol de decisión (decision tree) realizar el entrenamiento buscando\n",
        "sus mejores hiperparámetros con GridSearchCV(). Los hiperparámetros que debes incluir\n",
        "en su búsqueda deben ser al menos los siguientes: ccp_alpha, criterion, max_depth,\n",
        "min_samples_split y class_weight. En este caso deberás usar la métrica (scoring)\n",
        "“precision”. Imprime la mejor combinación de parámetros obtenidos, así como el valor\n",
        "del mejor desempeño (score) obtenido con la métrica “precision”. ¿Cuál es la utilidad de\n",
        "la métrica “precision”? Incluye tus conclusiones. "
      ]
    },
    {
      "cell_type": "code",
      "execution_count": null,
      "metadata": {
        "colab": {
          "base_uri": "https://localhost:8080/"
        },
        "id": "4tQxQROVC9Us",
        "outputId": "eebab449-7bc8-4683-deeb-6a57fe6d295e"
      },
      "outputs": [
        {
          "name": "stdout",
          "output_type": "stream",
          "text": [
            "Mejor valor de exactitud obtenido con la mejor combinación: 0.8648339490000723\n",
            "Mejor combinación de valores encontrados de los hiperparámetros: {'ccp_alpha': 0.01, 'class_weight': 'balanced', 'criterion': 'gini', 'max_depth': 1, 'min_samples_split': 2}\n",
            "Métrica utilizada: make_scorer(mi_precision)\n"
          ]
        }
      ],
      "source": [
        "# c)\n",
        "modeloDT = DecisionTreeClassifier()\n",
        "\n",
        "# Incluiremos los siguientes hiperparametros a la busqueda: ccp_alpha, criterion, max_depth, min_samples_split y class_weight\n",
        "dt_param_grid = {'ccp_alpha': [0.1, .01],\n",
        "                  'criterion': ['gini', 'entropy'],\n",
        "                  'max_depth': np.arange(1, 3, step=1),\n",
        "                  'min_samples_split': np.arange(2, 10, step=1),\n",
        "                  'class_weight': ['balanced', None]}\n",
        "\n",
        "cv = RepeatedStratifiedKFold(n_splits=5, n_repeats=3, random_state=8)\n",
        "\n",
        "dt_grid = GridSearchCV(estimator=modeloDT, \n",
        "                        param_grid=dt_param_grid, \n",
        "                        cv=cv, \n",
        "                        scoring=make_scorer(mi_precision, greater_is_better=True))\n",
        "\n",
        "Xx = columnasTransformer.fit_transform(Xtv)\n",
        "dt_grid.fit(Xx, ytv)\n",
        "\n",
        "print('Mejor valor de exactitud obtenido con la mejor combinación:', dt_grid.best_score_)\n",
        "print('Mejor combinación de valores encontrados de los hiperparámetros:', dt_grid.best_params_)\n",
        "print('Métrica utilizada:', dt_grid.scoring)\n",
        "\n",
        "#Mejor valor de exactitud obtenido con la mejor combinación: 0.8648339490000723\n",
        "#Mejor combinación de valores encontrados de los hiperparámetros: {'ccp_alpha': 0.01, 'class_weight': 'balanced', 'criterion': 'gini', 'max_depth': 1, 'min_samples_split': 2}\n",
        "#Métrica utilizada: make_scorer(mi_precision)\n"
      ]
    },
    {
      "cell_type": "markdown",
      "metadata": {
        "id": "7potvt8ztwb1"
      },
      "source": [
        "####¿Cuál es la utilidad de la métrica “precision”?\n",
        "\n",
        "Es una métrica muy usada ya que respondería a una pregunta del estilo. ¿Qué porcentaje de las predicciones positivas fueron correctas?. Es decir con la métrica de precisión podemos medir la calidad del modelo de machine learning en tareas de clasificación.\n",
        "Es de utilidad en casos específicos que se da prioridad al beneficio de acertar correctamente las predicciones de la clase positiva."
      ]
    },
    {
      "cell_type": "markdown",
      "metadata": {
        "id": "bkP34w5g7t4s"
      },
      "source": [
        "- d) Con los mejores valores de los hiperparámetros encontrados con la métrica “precision”\n",
        "para el modelo de árbol de decisión, obtener las curvas de aprendizaje (learning curve),\n",
        "incrementando el tamaño del conjunto de entrenamiento al menos 20 veces. Si lo crees\n",
        "adecuado, puedes hacer los ajustes que consideres adecuados para mejorar el resultado y\n",
        "evitar el sobreentrenamiento o el subentrenamiento. "
      ]
    },
    {
      "cell_type": "code",
      "execution_count": null,
      "metadata": {
        "colab": {
          "base_uri": "https://localhost:8080/",
          "height": 301
        },
        "id": "odWpvqY40vQ0",
        "outputId": "787d603b-58ae-4390-e27d-adb60fef8ea4"
      },
      "outputs": [
        {
          "data": {
            "image/png": "[encoded data removed]",
            "text/plain": [
              "<Figure size 576x288 with 1 Axes>"
            ]
          },
          "metadata": {},
          "output_type": "display_data"
        }
      ],
      "source": [
        "# d)\n",
        "### Learning Curve para Arbol de Decision usando los mejores hiperparametros\n",
        "## Iterando sobre el tamaño del conjunto de entrenamiento \"Observando la Precision\"\n",
        "\n",
        "delta_train_sz = np.linspace(0.1, 1.0, 20)\n",
        "\n",
        "cv = RepeatedStratifiedKFold(n_splits=5, n_repeats=3, random_state=8)\n",
        "\n",
        "modeloDT = DecisionTreeClassifier(ccp_alpha=0.01, class_weight='balanced', criterion='gini', max_depth=1, min_samples_split=2)\n",
        "\n",
        "train_sizes, train_scores, valid_scores = learning_curve(estimator=modeloDT, \n",
        "                                                        X=Xx, \n",
        "                                                        y=np.ravel(ytv),\n",
        "                                                        cv=cv, \n",
        "                                                        train_sizes=delta_train_sz,\n",
        "                                                        scoring=make_scorer(mi_precision, greater_is_better=True))\n",
        "\n",
        "# Obtengamos la gráfica de las curvas de aprendizaje \n",
        "# cuando se incrementa el tamaño de la muestra:\n",
        "\n",
        "train_mean = np.mean(train_scores, axis=1)\n",
        "train_std = np.std(train_scores, axis=1)\n",
        "valid_mean = np.mean(valid_scores, axis=1)\n",
        "valid_std = np.std(valid_scores, axis=1)\n",
        "\n",
        "plt.plot(train_sizes, train_mean, color='blue', marker='o', markersize=5, label='Training')\n",
        "\n",
        "plt.plot(train_sizes, valid_mean, color='red', marker='o', markersize=5, label='Validation')\n",
        "\n",
        "plt.title('Función learning_curve()')\n",
        "plt.xlabel('Tamaño del conjunto de entrenamiento')\n",
        "plt.ylabel('Precision')\n",
        "plt.grid()\n",
        "plt.legend(loc='lower right')\n",
        "plt.show()"
      ]
    },
    {
      "cell_type": "markdown",
      "metadata": {
        "id": "3Y5VwoYy7yUW"
      },
      "source": [
        "- e) Para el modelo de bosque aleatorio (random forest) realizar el entrenamiento buscando\n",
        "sus mejores hiperparámetros con GridSearchCV(). Los hiperparámetros que debes incluir\n",
        "en su búsqueda deben ser al menos los siguientes: ccp_alpha, criterion, max_depth,\n",
        "min_samples_split y class_weight. En este caso deberás usar la métrica (scoring) “recall”.\n",
        "Imprime la mejor combinación de parámetros obtenidos, así como el valor del mejor\n",
        "desempeño (score) obtenido con la métrica “recall”. ¿Cuál es la utilidad de la métrica\n",
        "“recall”? Incluye tus conclusiones. "
      ]
    },
    {
      "cell_type": "code",
      "execution_count": null,
      "metadata": {
        "colab": {
          "base_uri": "https://localhost:8080/"
        },
        "id": "NIu-Fyf80zBh",
        "outputId": "49f4b003-e435-40fa-9e9a-b28958b38137"
      },
      "outputs": [
        {
          "name": "stdout",
          "output_type": "stream",
          "text": [
            "Mejor valor de exactitud obtenido con la mejor combinación: 1.0\n",
            "Mejor combinación de valores encontrados de los hiperparámetros: {'ccp_alpha': 0.1, 'class_weight': None, 'criterion': 'gini', 'max_depth': 1, 'min_samples_split': 2}\n",
            "Métrica utilizada: make_scorer(mi_recall)\n"
          ]
        }
      ],
      "source": [
        "# e)\n",
        "modeloRF = RandomForestClassifier()\n",
        "\n",
        "# Incluiremos los siguientes hiperparametros a la busqueda: ccp_alpha, criterion, max_depth, min_samples_split y class_weight\n",
        "rf_param_grid = {'ccp_alpha': [0.1, .01,0.001],\n",
        "                  'criterion': ['gini', 'entropy'],\n",
        "                  'max_depth': np.arange(1, 3, step=1),\n",
        "                  'min_samples_split': np.arange(2, 10, step=1),\n",
        "                  'class_weight': ['balanced', None]}\n",
        "\n",
        "cv = RepeatedStratifiedKFold(n_splits=5, n_repeats=3, random_state=8)\n",
        "\n",
        "rf_grid = GridSearchCV(estimator=modeloRF, \n",
        "                        param_grid=rf_param_grid, \n",
        "                        cv=cv, \n",
        "                        scoring=make_scorer(mi_recall, greater_is_better=True))\n",
        "\n",
        "Xx = columnasTransformer.fit_transform(Xtv)\n",
        "rf_grid.fit(Xx, ytv)\n",
        "\n",
        "print('Mejor valor de exactitud obtenido con la mejor combinación:', rf_grid.best_score_)\n",
        "print('Mejor combinación de valores encontrados de los hiperparámetros:', rf_grid.best_params_)\n",
        "print('Métrica utilizada:', rf_grid.scoring)\n",
        "\n",
        "#Mejor valor de exactitud obtenido con la mejor combinación: 1.0\n",
        "#Mejor combinación de valores encontrados de los hiperparámetros: {'ccp_alpha': 0.1, 'class_weight': None, 'criterion': 'gini', 'max_depth': 1, 'min_samples_split': 2}\n",
        "#Métrica utilizada: recall"
      ]
    },
    {
      "cell_type": "markdown",
      "metadata": {
        "id": "KdHUE3NBvdcc"
      },
      "source": [
        "####¿Cuál es la utilidad de la métrica “recall”? \n",
        "\n",
        "Nos indica la proporción de casos positivos que están identificados correctamente por el modelo entre todos los positivos reales. La métrica de recall nos va a informar sobre la cantidad que el modelo de machine learning es capaz de identificar. Es de gran utilidad en escenarios dónde es importante clasificar correctamente la clase positiva. "
      ]
    },
    {
      "cell_type": "markdown",
      "metadata": {
        "id": "Uzi6dIid71_r"
      },
      "source": [
        "- f) Con los mejores valores de los hiperparámetros encontrados con la métrica “recall” para\n",
        "el modelo de bosque aleatorio, obtener las curvas de validación (validation curve),\n",
        "incrementando la complejidad del modelo a través del hiperparámetro “max_depth” con\n",
        "al menos 10 valores. Si lo crees adecuado, puedes hacer los ajustes que consideres\n",
        "adecuados para mejorar el resultado y evitar el sobreentrenamiento o el\n",
        "subentrenamiento. "
      ]
    },
    {
      "cell_type": "code",
      "execution_count": null,
      "metadata": {
        "colab": {
          "base_uri": "https://localhost:8080/",
          "height": 301
        },
        "id": "0X1wzUOjueSa",
        "outputId": "5d9ec267-76c3-4efe-db73-155307618680"
      },
      "outputs": [
        {
          "data": {
            "image/png": "[encoded data removed]",
            "text/plain": [
              "<Figure size 576x288 with 1 Axes>"
            ]
          },
          "metadata": {},
          "output_type": "display_data"
        }
      ],
      "source": [
        "# f)\n",
        "### Learning Curve para bosque aleatorio usando los mejores hiperparametros\n",
        "## Incrementando la complejidad del modelo a través del hiperparámetro “max_depth” con al menos 10 valores.\n",
        "\n",
        "# ****Importante , si usamos el mejor ccp_alpha=.1 para todos los niveles de profundida el Recall tanto\n",
        "# **** training y validación es igual a 1 por lo que no podemos distinguir ambas curvas lo cual \n",
        "# ****nos dará una alta tasa de falsos positivos en el modelo\n",
        "\n",
        "delta_max_depth = np.linspace(1, 20,20)\n",
        "\n",
        "resultados_train = list()\n",
        "resultados_test = list()\n",
        "\n",
        "for i in delta_max_depth:\n",
        " \n",
        "  cvLC = RepeatedStratifiedKFold(n_splits=5, n_repeats=3, random_state=1)\n",
        "\n",
        "  modeloRF = RandomForestClassifier(max_depth=i,ccp_alpha=0.095, class_weight=None, criterion='gini',min_samples_split=2)\n",
        "\n",
        "  resultados_max_depth = cross_validate(modeloRF,Xtv,np.ravel(ytv),scoring=make_scorer(mi_recall, greater_is_better=True),\n",
        "                                  cv=cvLC, return_train_score=True)\n",
        "  \n",
        "  resultados_train.append(np.mean(resultados_max_depth['train_score']))\n",
        "\n",
        "  resultados_test.append(np.mean(resultados_max_depth['test_score']))\n",
        "  \n",
        "# Obtengamos la gráfica de las curvas de aprendizaje \n",
        "# cuando se incrementa el tamaño de la muestra:\n",
        "\n",
        "plt.plot(delta_max_depth, resultados_train, color='blue', marker='o', markersize=5, label='Training')\n",
        "\n",
        "plt.plot(delta_max_depth, resultados_test, color='red', marker='o', markersize=5, label='Validation')\n",
        "\n",
        "plt.title('Función learning_curve()')\n",
        "plt.xlabel('Profundidad del bosque')\n",
        "plt.ylabel('Recall')\n",
        "plt.grid()\n",
        "plt.legend(loc='lower right')\n",
        "plt.show()"
      ]
    },
    {
      "cell_type": "code",
      "execution_count": null,
      "metadata": {
        "colab": {
          "base_uri": "https://localhost:8080/"
        },
        "id": "NqyPt3VEfquJ",
        "outputId": "3278bf20-763b-427a-c343-4f159018b536"
      },
      "outputs": [
        {
          "name": "stdout",
          "output_type": "stream",
          "text": [
            "[1.0, 1.0, 1.0, 1.0, 1.0, 1.0, 1.0, 1.0, 1.0, 1.0, 1.0, 1.0, 1.0, 1.0, 1.0, 1.0, 1.0, 1.0, 1.0, 1.0]\n",
            "[1.0, 1.0, 1.0, 1.0, 1.0, 1.0, 1.0, 1.0, 1.0, 1.0, 1.0, 1.0, 1.0, 1.0, 1.0, 1.0, 1.0, 1.0, 1.0, 1.0]\n"
          ]
        }
      ],
      "source": [
        "print(resultados_train)\n",
        "print(resultados_test)"
      ]
    },
    {
      "cell_type": "markdown",
      "metadata": {
        "id": "W2S7LI0NC9wE"
      },
      "source": [
        "#**Ejercicio-6.**"
      ]
    },
    {
      "cell_type": "markdown",
      "metadata": {
        "id": "I6wrdXyG769t"
      },
      "source": [
        "Para cada uno de estos tres modelos, con las métricas que se consideraron en cada caso y usando\n",
        "el conjunto de Prueba que no has utilizado hasta ahora, obtener los modelos finales como se te\n",
        "indica a continuación. Deberás usar además como conjunto de entrenamiento el llamado modelo\n",
        "de entrenamiento “aumentado” que consiste en las datos que estuviste utilizando para\n",
        "entrenamiento y validación"
      ]
    },
    {
      "cell_type": "markdown",
      "metadata": {
        "id": "rtBsqe6p8ApS"
      },
      "source": [
        "- a) Obtener el modelo de regresión logística con los mejores parámetros que hayas\n",
        "encontrado con la métrica f1-score utilizada. Imprimir el valor de dicha métrica e incluye\n",
        "tus conclusiones finales para este caso. Incluir un gráfico del árbol de decisión final\n",
        "obtenido. "
      ]
    },
    {
      "cell_type": "code",
      "execution_count": null,
      "metadata": {
        "colab": {
          "base_uri": "https://localhost:8080/"
        },
        "id": "x6uBleJUC_AU",
        "outputId": "ea428736-a3c1-41e5-c5ce-678579dd0682"
      },
      "outputs": [
        {
          "name": "stdout",
          "output_type": "stream",
          "text": [
            "0.8251121076233184\n"
          ]
        }
      ],
      "source": [
        "# a)Obtener el modelo de regresión logística con los mejores parámetros\n",
        "modelo = LogisticRegression(C=1, penalty='l1', class_weight=None, solver='liblinear')\n",
        "\n",
        "# Entrenamos el modelo por última vez con los datos de entrenamiento y validación conjuntos:\n",
        "Xct = columnasTransformer.fit(Xtv)\n",
        "Xxt = Xct.transform(Xtv)\n",
        "modelo.fit(Xxt, np.ravel(ytv))\n",
        "\n",
        "# Transformamos los datos de prueba y los utilizamos por primera vez para obtener sus predicciones\n",
        "# y desempeño del modelo:\n",
        "\n",
        "Xxtest = Xct.transform(Xtest)\n",
        "print(mi_f1_score(ytest,modelo.predict(Xxtest)))"
      ]
    },
    {
      "cell_type": "markdown",
      "metadata": {
        "id": "OE98W2zHQne-"
      },
      "source": [
        "###Conclusiones Modelo de Regresión Logistica.\n",
        "\n",
        "El desempeño del modelo de regresión logística con el conjunto de prueba al revisar la métrica \"f1 - score\" es ligeramente menor (de 0.8473 disminuye a 0.825) en comparación con el resultado obtenido durante el proceso de búsqueda de la mejor combinación de valores en los hiperparámetros (empleando el conjunto de entrenamiento-validación).\n"
      ]
    },
    {
      "cell_type": "markdown",
      "metadata": {
        "id": "CIU5u2BT8E86"
      },
      "source": [
        "- b) Obtener el modelo de árbol de decisiones con los mejores parámetros que hayas\n",
        "encontrado con la métrica “precision” utilizada. Imprimir el valor de dicha métrica e\n",
        "incluye tus conclusiones finales para este caso. "
      ]
    },
    {
      "cell_type": "code",
      "execution_count": null,
      "metadata": {
        "colab": {
          "base_uri": "https://localhost:8080/"
        },
        "id": "sJlXp6aE-3gA",
        "outputId": "d72fa8f3-c9f2-4b8b-cc0f-8aff70017b22"
      },
      "outputs": [
        {
          "name": "stdout",
          "output_type": "stream",
          "text": [
            "0.8923076923076924\n"
          ]
        }
      ],
      "source": [
        "# b)Obtener el modelo de árbol de decisiones con los mejores parámetros\n",
        "modeloDT = DecisionTreeClassifier(ccp_alpha=0.01, class_weight='balanced', criterion='gini', max_depth=1, min_samples_split=2)\n",
        "\n",
        "# Entrenamos el modelo por última vez con los datos de entrenamiento y validación conjuntos:\n",
        "Xct = columnasTransformer.fit(Xtv)\n",
        "Xxt = Xct.transform(Xtv)\n",
        "modeloDT.fit(Xxt, np.ravel(ytv))\n",
        "\n",
        "# Transformamos los datos de prueba y los utilizamos por primera vez para obtener sus predicciones\n",
        "# y desempeño del modelo:\n",
        "\n",
        "Xxtest = Xct.transform(Xtest)\n",
        "print(mi_precision(ytest,modeloDT.predict(Xxtest)))\n"
      ]
    },
    {
      "cell_type": "code",
      "execution_count": null,
      "metadata": {
        "colab": {
          "base_uri": "https://localhost:8080/",
          "height": 227
        },
        "id": "Gt6O35MsAAix",
        "outputId": "9dc6fec5-a93c-4851-ec7b-6457072758da"
      },
      "outputs": [
        {
          "data": {
            "image/png": "[encoded data removed]",
            "text/plain": [
              "<IPython.core.display.Image object>"
            ]
          },
          "execution_count": 12,
          "metadata": {},
          "output_type": "execute_result"
        }
      ],
      "source": [
        "dot_data = tree.export_graphviz(decision_tree=modeloDT, \n",
        "                                out_file=None,\n",
        "                                max_depth=None,\n",
        "                                feature_names=list(pd.DataFrame(Xxtest).columns.values),\n",
        "                                filled=True,\n",
        "                                rotate=True,\n",
        "                                proportion=False)\n",
        "\n",
        "graph = pydotplus.graph_from_dot_data(dot_data)\n",
        "Image(graph.create_png())"
      ]
    },
    {
      "cell_type": "markdown",
      "metadata": {
        "id": "QsuG6vofQyoN"
      },
      "source": [
        "###Conclusiones Árbol de Decisión\n",
        "Luego de entrenar el modelo de Árbol de Decisión usando la mejor combinación de hiperparámetros y de evaluarlo usando los datos de prueba por primera vez con este tipo de clasificador podemos observar incluso una mejor calificación de la métrica de precisión ya que nos da un 89% comparado con la precisión obtenida de 86% obtenida como mejor valor en el proceso de Grid Search. \n",
        "\n",
        "De igual forma podemos apreciar por medio de la gráfica de árbol que el valor Gini del nodo raíz presenta un valor de 0.5 lo que indica una mezcla balancead de las dos clases y cada nodo hijo adquiere una mayor pureza.\n"
      ]
    },
    {
      "cell_type": "markdown",
      "metadata": {
        "id": "1z0lKA1u8JhA"
      },
      "source": [
        "- c) Obtener el modelo de bosque aleatorio con los mejores parámetros que hayas\n",
        "encontrado con la métrica “recall” utilizada. Imprimir el valor de dicha métrica e incluye\n",
        "tus conclusiones finales para este caso. "
      ]
    },
    {
      "cell_type": "code",
      "execution_count": null,
      "metadata": {
        "colab": {
          "base_uri": "https://localhost:8080/"
        },
        "id": "LkCAO2rNABHP",
        "outputId": "53f48e47-e16a-4792-ebb4-8132714a40df"
      },
      "outputs": [
        {
          "name": "stdout",
          "output_type": "stream",
          "text": [
            "1.0\n"
          ]
        }
      ],
      "source": [
        "#c) \n",
        "modeloRF = RandomForestClassifier(max_depth=1,ccp_alpha=0.1, class_weight=None, criterion='gini',min_samples_split=2)\n",
        "\n",
        "# Entrenamos el modelo por última vez con los datos de entrenamiento y validación conjuntos:\n",
        "Xct = columnasTransformer.fit(Xtv)\n",
        "Xxt = Xct.transform(Xtv)\n",
        "modeloRF.fit(Xxt, np.ravel(ytv))\n",
        "\n",
        "# Transformamos los datos de prueba y los utilizamos por primera vez para obtener sus predicciones\n",
        "# y desempeño del modelo:\n",
        "\n",
        "Xxtest = Xct.transform(Xtest)\n",
        "print(mi_recall(ytest,modeloRF.predict(Xxtest)))"
      ]
    },
    {
      "cell_type": "code",
      "execution_count": null,
      "metadata": {
        "colab": {
          "base_uri": "https://localhost:8080/",
          "height": 98
        },
        "id": "g30VQ_VLQW63",
        "outputId": "a0dbafc1-3847-4043-8fba-44da289d45d5"
      },
      "outputs": [
        {
          "data": {
            "image/png": "[encoded data removed]",
            "text/plain": [
              "<IPython.core.display.Image object>"
            ]
          },
          "execution_count": 46,
          "metadata": {},
          "output_type": "execute_result"
        }
      ],
      "source": [
        "# Cada elemento en modeloRF.estimators_ es un arbol de decisiones independiente. En total son 100 arboles en nuestro Bosque Aleatoreo \n",
        "dot_data = tree.export_graphviz(decision_tree=modeloRF.estimators_[99], \n",
        "                                out_file=None,\n",
        "                                max_depth=None,\n",
        "                                feature_names=list(pd.DataFrame(Xxtest).columns.values),\n",
        "                                filled=True,\n",
        "                                rotate=True,\n",
        "                                proportion=False)\n",
        "\n",
        "graph = pydotplus.graph_from_dot_data(dot_data)\n",
        "Image(graph.create_png())"
      ]
    },
    {
      "cell_type": "markdown",
      "metadata": {
        "id": "8NJoPQXuQ7bl"
      },
      "source": [
        "###Conclusiones Bosque Aleatorio\n",
        "Una vez más después de tomar la medida de entrenar nuestro modelo con los mejores parámetros, en este caso el de Bosque Aleatorio, nos damos cuenta de que la métrica de “recall” tiene un valor de 1.0 tanto en la obtención de hiperparámetros como en la validación usando los datos de prueba. Esto quiere decir que ningunos de los dos casos se detectan Falsos Negativos.\n",
        "\n",
        "Además, es interesante hacer un análisis exploratorio de los distintos Árboles de Decisión que integran nuestro Bosque ya que al tratarse de cien árboles que en conjunto integran nuestro bosque ya no es tan práctico el graficarlos todos a la vez. Sin embargo, una idea para dar continuación al ejercicio pudiera ser identificar aquellos árboles que tengan mejor valoración para obtener un mejor entendimiento de nuestro modelo, claro que sin perder de vista que es bosque en su totalidad el que permite clasificar y lanzar predicciones.\n"
      ]
    },
    {
      "cell_type": "markdown",
      "metadata": {
        "id": "7ql_r2G-DB_m"
      },
      "source": [
        "###**Fin de la Actividad de la semana 6.**"
      ]
    }
  ],
  "metadata": {
    "colab": {
      "collapsed_sections": [],
      "provenance": []
    },
    "kernelspec": {
      "display_name": "Python 3.10.5 64-bit",
      "language": "python",
      "name": "python3"
    },
    "language_info": {
      "name": "python",
      "version": "3.10.5"
    },
    "vscode": {
      "interpreter": {
        "hash": "369f2c481f4da34e4445cda3fffd2e751bd1c4d706f27375911949ba6bb62e1c"
      }
    }
  },
  "nbformat": 4,
  "nbformat_minor": 0
}
